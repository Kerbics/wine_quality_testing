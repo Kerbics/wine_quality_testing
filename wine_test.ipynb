{
 "cells": [
  {
   "cell_type": "code",
   "execution_count": 1,
   "id": "8226c6b0-e6b7-4469-a419-356d02831632",
   "metadata": {},
   "outputs": [],
   "source": [
    "import numpy as np\n",
    "import matplotlib.pyplot as plt\n",
    "import pandas as pd\n",
    "import seaborn as sns\n",
    "from sklearn.model_selection import train_test_split, GridSearchCV, cross_val_score\n",
    "from sklearn.ensemble import RandomForestClassifier\n",
    "from sklearn.metrics import accuracy_score\n"
   ]
  },
  {
   "cell_type": "markdown",
   "id": "55aaaad5-c2b1-4d31-8875-b054024f474a",
   "metadata": {},
   "source": [
    "Data Collection\n"
   ]
  },
  {
   "cell_type": "code",
   "execution_count": 2,
   "id": "5dc202c4-eaa8-4eeb-9141-9586c298b33c",
   "metadata": {},
   "outputs": [],
   "source": [
    "#loading the dataset\n",
    "wd=pd.read_csv('wineQualityReds.csv') # wd=Wine Datase"
   ]
  },
  {
   "cell_type": "code",
   "execution_count": 3,
   "id": "a3532531-2600-4f54-a826-2fcd0eba85b3",
   "metadata": {},
   "outputs": [
    {
     "data": {
      "text/plain": [
       "(1599, 13)"
      ]
     },
     "execution_count": 3,
     "metadata": {},
     "output_type": "execute_result"
    }
   ],
   "source": [
    "#no. of rows and columns\n",
    "wd.shape"
   ]
  },
  {
   "cell_type": "code",
   "execution_count": 4,
   "id": "48ccca8c-0b94-4b93-b359-413e0b7cc480",
   "metadata": {},
   "outputs": [
    {
     "data": {
      "text/html": [
       "<div>\n",
       "<style scoped>\n",
       "    .dataframe tbody tr th:only-of-type {\n",
       "        vertical-align: middle;\n",
       "    }\n",
       "\n",
       "    .dataframe tbody tr th {\n",
       "        vertical-align: top;\n",
       "    }\n",
       "\n",
       "    .dataframe thead th {\n",
       "        text-align: right;\n",
       "    }\n",
       "</style>\n",
       "<table border=\"1\" class=\"dataframe\">\n",
       "  <thead>\n",
       "    <tr style=\"text-align: right;\">\n",
       "      <th></th>\n",
       "      <th>Unnamed: 0</th>\n",
       "      <th>fixed.acidity</th>\n",
       "      <th>volatile.acidity</th>\n",
       "      <th>citric.acid</th>\n",
       "      <th>residual.sugar</th>\n",
       "      <th>chlorides</th>\n",
       "      <th>free.sulfur.dioxide</th>\n",
       "      <th>total.sulfur.dioxide</th>\n",
       "      <th>density</th>\n",
       "      <th>pH</th>\n",
       "      <th>sulphates</th>\n",
       "      <th>alcohol</th>\n",
       "      <th>quality</th>\n",
       "    </tr>\n",
       "  </thead>\n",
       "  <tbody>\n",
       "    <tr>\n",
       "      <th>0</th>\n",
       "      <td>1</td>\n",
       "      <td>7.4</td>\n",
       "      <td>0.70</td>\n",
       "      <td>0.00</td>\n",
       "      <td>1.9</td>\n",
       "      <td>0.076</td>\n",
       "      <td>11.0</td>\n",
       "      <td>34.0</td>\n",
       "      <td>0.9978</td>\n",
       "      <td>3.51</td>\n",
       "      <td>0.56</td>\n",
       "      <td>9.4</td>\n",
       "      <td>5</td>\n",
       "    </tr>\n",
       "    <tr>\n",
       "      <th>1</th>\n",
       "      <td>2</td>\n",
       "      <td>7.8</td>\n",
       "      <td>0.88</td>\n",
       "      <td>0.00</td>\n",
       "      <td>2.6</td>\n",
       "      <td>0.098</td>\n",
       "      <td>25.0</td>\n",
       "      <td>67.0</td>\n",
       "      <td>0.9968</td>\n",
       "      <td>3.20</td>\n",
       "      <td>0.68</td>\n",
       "      <td>9.8</td>\n",
       "      <td>5</td>\n",
       "    </tr>\n",
       "    <tr>\n",
       "      <th>2</th>\n",
       "      <td>3</td>\n",
       "      <td>7.8</td>\n",
       "      <td>0.76</td>\n",
       "      <td>0.04</td>\n",
       "      <td>2.3</td>\n",
       "      <td>0.092</td>\n",
       "      <td>15.0</td>\n",
       "      <td>54.0</td>\n",
       "      <td>0.9970</td>\n",
       "      <td>3.26</td>\n",
       "      <td>0.65</td>\n",
       "      <td>9.8</td>\n",
       "      <td>5</td>\n",
       "    </tr>\n",
       "    <tr>\n",
       "      <th>3</th>\n",
       "      <td>4</td>\n",
       "      <td>11.2</td>\n",
       "      <td>0.28</td>\n",
       "      <td>0.56</td>\n",
       "      <td>1.9</td>\n",
       "      <td>0.075</td>\n",
       "      <td>17.0</td>\n",
       "      <td>60.0</td>\n",
       "      <td>0.9980</td>\n",
       "      <td>3.16</td>\n",
       "      <td>0.58</td>\n",
       "      <td>9.8</td>\n",
       "      <td>6</td>\n",
       "    </tr>\n",
       "    <tr>\n",
       "      <th>4</th>\n",
       "      <td>5</td>\n",
       "      <td>7.4</td>\n",
       "      <td>0.70</td>\n",
       "      <td>0.00</td>\n",
       "      <td>1.9</td>\n",
       "      <td>0.076</td>\n",
       "      <td>11.0</td>\n",
       "      <td>34.0</td>\n",
       "      <td>0.9978</td>\n",
       "      <td>3.51</td>\n",
       "      <td>0.56</td>\n",
       "      <td>9.4</td>\n",
       "      <td>5</td>\n",
       "    </tr>\n",
       "  </tbody>\n",
       "</table>\n",
       "</div>"
      ],
      "text/plain": [
       "   Unnamed: 0  fixed.acidity  volatile.acidity  citric.acid  residual.sugar  \\\n",
       "0           1            7.4              0.70         0.00             1.9   \n",
       "1           2            7.8              0.88         0.00             2.6   \n",
       "2           3            7.8              0.76         0.04             2.3   \n",
       "3           4           11.2              0.28         0.56             1.9   \n",
       "4           5            7.4              0.70         0.00             1.9   \n",
       "\n",
       "   chlorides  free.sulfur.dioxide  total.sulfur.dioxide  density    pH  \\\n",
       "0      0.076                 11.0                  34.0   0.9978  3.51   \n",
       "1      0.098                 25.0                  67.0   0.9968  3.20   \n",
       "2      0.092                 15.0                  54.0   0.9970  3.26   \n",
       "3      0.075                 17.0                  60.0   0.9980  3.16   \n",
       "4      0.076                 11.0                  34.0   0.9978  3.51   \n",
       "\n",
       "   sulphates  alcohol  quality  \n",
       "0       0.56      9.4        5  \n",
       "1       0.68      9.8        5  \n",
       "2       0.65      9.8        5  \n",
       "3       0.58      9.8        6  \n",
       "4       0.56      9.4        5  "
      ]
     },
     "execution_count": 4,
     "metadata": {},
     "output_type": "execute_result"
    }
   ],
   "source": [
    "#viewing sample of the dataset\n",
    "wd.head()"
   ]
  },
  {
   "cell_type": "markdown",
   "id": "064c08b3-cb2c-4e24-b30c-5cb74c895bea",
   "metadata": {},
   "source": [
    "Data Analysis"
   ]
  },
  {
   "cell_type": "code",
   "execution_count": 5,
   "id": "9665cbb5-bcc7-46b0-8585-36346770c527",
   "metadata": {},
   "outputs": [
    {
     "data": {
      "text/html": [
       "<div>\n",
       "<style scoped>\n",
       "    .dataframe tbody tr th:only-of-type {\n",
       "        vertical-align: middle;\n",
       "    }\n",
       "\n",
       "    .dataframe tbody tr th {\n",
       "        vertical-align: top;\n",
       "    }\n",
       "\n",
       "    .dataframe thead th {\n",
       "        text-align: right;\n",
       "    }\n",
       "</style>\n",
       "<table border=\"1\" class=\"dataframe\">\n",
       "  <thead>\n",
       "    <tr style=\"text-align: right;\">\n",
       "      <th></th>\n",
       "      <th>Unnamed: 0</th>\n",
       "      <th>fixed.acidity</th>\n",
       "      <th>volatile.acidity</th>\n",
       "      <th>citric.acid</th>\n",
       "      <th>residual.sugar</th>\n",
       "      <th>chlorides</th>\n",
       "      <th>free.sulfur.dioxide</th>\n",
       "      <th>total.sulfur.dioxide</th>\n",
       "      <th>density</th>\n",
       "      <th>pH</th>\n",
       "      <th>sulphates</th>\n",
       "      <th>alcohol</th>\n",
       "      <th>quality</th>\n",
       "    </tr>\n",
       "  </thead>\n",
       "  <tbody>\n",
       "    <tr>\n",
       "      <th>count</th>\n",
       "      <td>1599.000000</td>\n",
       "      <td>1599.000000</td>\n",
       "      <td>1599.000000</td>\n",
       "      <td>1599.000000</td>\n",
       "      <td>1599.000000</td>\n",
       "      <td>1599.000000</td>\n",
       "      <td>1599.000000</td>\n",
       "      <td>1599.000000</td>\n",
       "      <td>1599.000000</td>\n",
       "      <td>1599.000000</td>\n",
       "      <td>1599.000000</td>\n",
       "      <td>1599.000000</td>\n",
       "      <td>1599.000000</td>\n",
       "    </tr>\n",
       "    <tr>\n",
       "      <th>mean</th>\n",
       "      <td>800.000000</td>\n",
       "      <td>8.319637</td>\n",
       "      <td>0.527821</td>\n",
       "      <td>0.270976</td>\n",
       "      <td>2.538806</td>\n",
       "      <td>0.087467</td>\n",
       "      <td>15.874922</td>\n",
       "      <td>46.467792</td>\n",
       "      <td>0.996747</td>\n",
       "      <td>3.311113</td>\n",
       "      <td>0.658149</td>\n",
       "      <td>10.422983</td>\n",
       "      <td>5.636023</td>\n",
       "    </tr>\n",
       "    <tr>\n",
       "      <th>std</th>\n",
       "      <td>461.735855</td>\n",
       "      <td>1.741096</td>\n",
       "      <td>0.179060</td>\n",
       "      <td>0.194801</td>\n",
       "      <td>1.409928</td>\n",
       "      <td>0.047065</td>\n",
       "      <td>10.460157</td>\n",
       "      <td>32.895324</td>\n",
       "      <td>0.001887</td>\n",
       "      <td>0.154386</td>\n",
       "      <td>0.169507</td>\n",
       "      <td>1.065668</td>\n",
       "      <td>0.807569</td>\n",
       "    </tr>\n",
       "    <tr>\n",
       "      <th>min</th>\n",
       "      <td>1.000000</td>\n",
       "      <td>4.600000</td>\n",
       "      <td>0.120000</td>\n",
       "      <td>0.000000</td>\n",
       "      <td>0.900000</td>\n",
       "      <td>0.012000</td>\n",
       "      <td>1.000000</td>\n",
       "      <td>6.000000</td>\n",
       "      <td>0.990070</td>\n",
       "      <td>2.740000</td>\n",
       "      <td>0.330000</td>\n",
       "      <td>8.400000</td>\n",
       "      <td>3.000000</td>\n",
       "    </tr>\n",
       "    <tr>\n",
       "      <th>25%</th>\n",
       "      <td>400.500000</td>\n",
       "      <td>7.100000</td>\n",
       "      <td>0.390000</td>\n",
       "      <td>0.090000</td>\n",
       "      <td>1.900000</td>\n",
       "      <td>0.070000</td>\n",
       "      <td>7.000000</td>\n",
       "      <td>22.000000</td>\n",
       "      <td>0.995600</td>\n",
       "      <td>3.210000</td>\n",
       "      <td>0.550000</td>\n",
       "      <td>9.500000</td>\n",
       "      <td>5.000000</td>\n",
       "    </tr>\n",
       "    <tr>\n",
       "      <th>50%</th>\n",
       "      <td>800.000000</td>\n",
       "      <td>7.900000</td>\n",
       "      <td>0.520000</td>\n",
       "      <td>0.260000</td>\n",
       "      <td>2.200000</td>\n",
       "      <td>0.079000</td>\n",
       "      <td>14.000000</td>\n",
       "      <td>38.000000</td>\n",
       "      <td>0.996750</td>\n",
       "      <td>3.310000</td>\n",
       "      <td>0.620000</td>\n",
       "      <td>10.200000</td>\n",
       "      <td>6.000000</td>\n",
       "    </tr>\n",
       "    <tr>\n",
       "      <th>75%</th>\n",
       "      <td>1199.500000</td>\n",
       "      <td>9.200000</td>\n",
       "      <td>0.640000</td>\n",
       "      <td>0.420000</td>\n",
       "      <td>2.600000</td>\n",
       "      <td>0.090000</td>\n",
       "      <td>21.000000</td>\n",
       "      <td>62.000000</td>\n",
       "      <td>0.997835</td>\n",
       "      <td>3.400000</td>\n",
       "      <td>0.730000</td>\n",
       "      <td>11.100000</td>\n",
       "      <td>6.000000</td>\n",
       "    </tr>\n",
       "    <tr>\n",
       "      <th>max</th>\n",
       "      <td>1599.000000</td>\n",
       "      <td>15.900000</td>\n",
       "      <td>1.580000</td>\n",
       "      <td>1.000000</td>\n",
       "      <td>15.500000</td>\n",
       "      <td>0.611000</td>\n",
       "      <td>72.000000</td>\n",
       "      <td>289.000000</td>\n",
       "      <td>1.003690</td>\n",
       "      <td>4.010000</td>\n",
       "      <td>2.000000</td>\n",
       "      <td>14.900000</td>\n",
       "      <td>8.000000</td>\n",
       "    </tr>\n",
       "  </tbody>\n",
       "</table>\n",
       "</div>"
      ],
      "text/plain": [
       "        Unnamed: 0  fixed.acidity  volatile.acidity  citric.acid  \\\n",
       "count  1599.000000    1599.000000       1599.000000  1599.000000   \n",
       "mean    800.000000       8.319637          0.527821     0.270976   \n",
       "std     461.735855       1.741096          0.179060     0.194801   \n",
       "min       1.000000       4.600000          0.120000     0.000000   \n",
       "25%     400.500000       7.100000          0.390000     0.090000   \n",
       "50%     800.000000       7.900000          0.520000     0.260000   \n",
       "75%    1199.500000       9.200000          0.640000     0.420000   \n",
       "max    1599.000000      15.900000          1.580000     1.000000   \n",
       "\n",
       "       residual.sugar    chlorides  free.sulfur.dioxide  total.sulfur.dioxide  \\\n",
       "count     1599.000000  1599.000000          1599.000000           1599.000000   \n",
       "mean         2.538806     0.087467            15.874922             46.467792   \n",
       "std          1.409928     0.047065            10.460157             32.895324   \n",
       "min          0.900000     0.012000             1.000000              6.000000   \n",
       "25%          1.900000     0.070000             7.000000             22.000000   \n",
       "50%          2.200000     0.079000            14.000000             38.000000   \n",
       "75%          2.600000     0.090000            21.000000             62.000000   \n",
       "max         15.500000     0.611000            72.000000            289.000000   \n",
       "\n",
       "           density           pH    sulphates      alcohol      quality  \n",
       "count  1599.000000  1599.000000  1599.000000  1599.000000  1599.000000  \n",
       "mean      0.996747     3.311113     0.658149    10.422983     5.636023  \n",
       "std       0.001887     0.154386     0.169507     1.065668     0.807569  \n",
       "min       0.990070     2.740000     0.330000     8.400000     3.000000  \n",
       "25%       0.995600     3.210000     0.550000     9.500000     5.000000  \n",
       "50%       0.996750     3.310000     0.620000    10.200000     6.000000  \n",
       "75%       0.997835     3.400000     0.730000    11.100000     6.000000  \n",
       "max       1.003690     4.010000     2.000000    14.900000     8.000000  "
      ]
     },
     "execution_count": 5,
     "metadata": {},
     "output_type": "execute_result"
    }
   ],
   "source": [
    "#statistical analysis\n",
    "wd.describe()"
   ]
  },
  {
   "cell_type": "code",
   "execution_count": 6,
   "id": "39ae27ba-7d17-4da3-8a1b-2a9b2b0b0815",
   "metadata": {},
   "outputs": [
    {
     "data": {
      "text/plain": [
       "<seaborn.axisgrid.FacetGrid at 0x1c4c20662d0>"
      ]
     },
     "execution_count": 6,
     "metadata": {},
     "output_type": "execute_result"
    },
    {
     "data": {
      "image/png": "[encoded data removed]",
      "text/plain": [
       "<Figure size 500x500 with 1 Axes>"
      ]
     },
     "metadata": {},
     "output_type": "display_data"
    }
   ],
   "source": [
    "#segragattion based on quality\n",
    "sns.catplot(x='quality', data=wd, kind = 'count')\n"
   ]
  },
  {
   "cell_type": "code",
   "execution_count": 7,
   "id": "b59c3071-405d-4ad1-8d1e-f4575ef8780b",
   "metadata": {},
   "outputs": [
    {
     "data": {
      "image/png": "[encoded data removed]",
      "text/plain": [
       "<Figure size 1200x600 with 1 Axes>"
      ]
     },
     "metadata": {},
     "output_type": "display_data"
    }
   ],
   "source": [
    "# alcohol vs quality\n",
    "plt.figure(figsize = (12,6))\n",
    "sns.barplot(x='quality', y='alcohol', data=wd,  palette='inferno')\n",
    "plt.show()"
   ]
  },
  {
   "cell_type": "code",
   "execution_count": 8,
   "id": "b323e016-73cb-4f00-95b4-44a6fcd6cc75",
   "metadata": {},
   "outputs": [
    {
     "data": {
      "image/png": "[encoded data removed]",
      "text/plain": [
       "<Figure size 1200x600 with 1 Axes>"
      ]
     },
     "metadata": {},
     "output_type": "display_data"
    }
   ],
   "source": [
    "# acidity vs quality\n",
    "plt.figure(figsize = (12,6))\n",
    "sns.barplot(x='quality', y='volatile.acidity', data=wd,  palette='inferno')\n",
    "plt.show()"
   ]
  },
  {
   "cell_type": "code",
   "execution_count": 9,
   "id": "e323b53b-2b4b-4aa4-96da-d3a3d789380a",
   "metadata": {},
   "outputs": [
    {
     "data": {
      "image/png": "[encoded data removed]",
      "text/plain": [
       "<Figure size 1200x600 with 2 Axes>"
      ]
     },
     "metadata": {},
     "output_type": "display_data"
    }
   ],
   "source": [
    "#heatmap for checking all rows with respect to all columns\n",
    "plot = plt.figure(figsize = (12,6))\n",
    "sns.heatmap(wd.corr() ,annot = True)\n",
    "plt.show()"
   ]
  },
  {
   "cell_type": "markdown",
   "id": "89890a74-6178-41bd-9238-281661214f95",
   "metadata": {},
   "source": [
    "Data Preprocessing\n"
   ]
  },
  {
   "cell_type": "code",
   "execution_count": 10,
   "id": "36dd5270-17aa-444d-bec1-45c4fae6b102",
   "metadata": {},
   "outputs": [],
   "source": [
    "X = wd.drop('quality', axis=1)"
   ]
  },
  {
   "cell_type": "code",
   "execution_count": 11,
   "id": "4581dfd7-edc6-43cd-b328-b25c360306b1",
   "metadata": {},
   "outputs": [],
   "source": [
    "y = wd['quality']"
   ]
  },
  {
   "cell_type": "code",
   "execution_count": 12,
   "id": "848ca3f4-09b2-47b3-889d-70921db692c2",
   "metadata": {},
   "outputs": [],
   "source": [
    "##Oversampling\n",
    "from imblearn.over_sampling import SMOTE\n",
    "os = SMOTE()\n",
    "x_res, y_res = os.fit_resample(X, y)\n"
   ]
  },
  {
   "cell_type": "code",
   "execution_count": 13,
   "id": "49e2cd8d-e9ac-45a9-89b5-062c98df3857",
   "metadata": {},
   "outputs": [],
   "source": [
    "#splitting te dataset into TRAIN and TEST data\n",
    "x_train, x_test, y_train, y_test = train_test_split(x_res, y_res, test_size=0.2, random_state=3) "
   ]
  },
  {
   "cell_type": "code",
   "execution_count": 14,
   "id": "6ee49d69-b4b1-4912-ad17-7e9f12798167",
   "metadata": {},
   "outputs": [],
   "source": [
    "from sklearn.preprocessing import StandardScaler \n",
    "\n",
    "stdscale = StandardScaler().fit(x_train)\n",
    "x_train_std = stdscale.transform(x_train)\n",
    "x_test_std = stdscale.transform(x_test)"
   ]
  },
  {
   "cell_type": "markdown",
   "id": "a8076d6a-401a-418c-98d9-40a72a4cd972",
   "metadata": {},
   "source": [
    "Model Selection\n"
   ]
  },
  {
   "cell_type": "markdown",
   "id": "6ade7a24-8862-4ffe-86f2-cd4fce15243b",
   "metadata": {},
   "source": [
    "1. Logistic Regression"
   ]
  },
  {
   "cell_type": "code",
   "execution_count": 15,
   "id": "718e575e-2020-4c07-8a8a-1b92eef02128",
   "metadata": {},
   "outputs": [
    {
     "data": {
      "text/plain": [
       "0.6149144254278729"
      ]
     },
     "execution_count": 15,
     "metadata": {},
     "output_type": "execute_result"
    }
   ],
   "source": [
    "from sklearn.linear_model import LogisticRegression \n",
    "lr = LogisticRegression(max_iter=1000)\n",
    "lr.fit(x_train_std, y_train)\n",
    "predictions = lr.predict(x_test_std)\n",
    "accuracy_score(y_test, predictions)"
   ]
  },
  {
   "cell_type": "markdown",
   "id": "d361c636-9ac9-49f2-9d91-7ce4ab0ddedc",
   "metadata": {},
   "source": [
    "2. Decision Tree"
   ]
  },
  {
   "cell_type": "code",
   "execution_count": 16,
   "id": "a85dfe1f-7ba4-4b3b-b50f-60e36e7eeea7",
   "metadata": {},
   "outputs": [
    {
     "data": {
      "text/plain": [
       "0.7958435207823961"
      ]
     },
     "execution_count": 16,
     "metadata": {},
     "output_type": "execute_result"
    }
   ],
   "source": [
    "from sklearn.tree import DecisionTreeClassifier \n",
    "dt = DecisionTreeClassifier ()\n",
    "dt.fit(x_train, y_train)\n",
    "predictions = dt.predict(x_test)\n",
    "accuracy_score(y_test, predictions)"
   ]
  },
  {
   "cell_type": "markdown",
   "id": "bfcccfb3-f981-42ba-88aa-0c31bfd0700e",
   "metadata": {},
   "source": [
    "3. Random Forest Classifier"
   ]
  },
  {
   "cell_type": "code",
   "execution_count": 17,
   "id": "bc4bfe83-8956-41bc-a4ce-7705d800d209",
   "metadata": {},
   "outputs": [
    {
     "data": {
      "text/plain": [
       "0.8814180929095354"
      ]
     },
     "execution_count": 17,
     "metadata": {},
     "output_type": "execute_result"
    }
   ],
   "source": [
    "from sklearn.ensemble import RandomForestClassifier\n",
    "rf = RandomForestClassifier(random_state = 42)\n",
    "rf.fit(x_train_std, y_train)\n",
    "predictions = rf.predict(x_test_std)\n",
    "accuracy_score(y_test, predictions)"
   ]
  },
  {
   "cell_type": "markdown",
   "id": "5ce889c3-2561-4565-a804-264e0e7a9a0f",
   "metadata": {},
   "source": [
    "4. Stochastic Gradient Decent Classifier"
   ]
  },
  {
   "cell_type": "code",
   "execution_count": 18,
   "id": "4f7753a8-89bd-488a-a3a8-6ae16eb23a78",
   "metadata": {},
   "outputs": [
    {
     "data": {
      "text/plain": [
       "0.5672371638141809"
      ]
     },
     "execution_count": 18,
     "metadata": {},
     "output_type": "execute_result"
    }
   ],
   "source": [
    "from sklearn.linear_model import SGDClassifier\n",
    "sgd = SGDClassifier(penalty=None)\n",
    "sgd.fit(x_train_std, y_train)\n",
    "predictions = sgd.predict(x_test_std)\n",
    "accuracy_score(y_test, predictions)"
   ]
  },
  {
   "cell_type": "markdown",
   "id": "a5afd914-180f-46fc-b24a-c16bbc60379e",
   "metadata": {},
   "source": [
    "5. Support Vector Classifier"
   ]
  },
  {
   "cell_type": "code",
   "execution_count": 19,
   "id": "fc5d9cd8-7492-4d4a-a7d6-fc748ca8cdde",
   "metadata": {},
   "outputs": [
    {
     "data": {
      "text/plain": [
       "0.7885085574572127"
      ]
     },
     "execution_count": 19,
     "metadata": {},
     "output_type": "execute_result"
    }
   ],
   "source": [
    "from sklearn.svm import SVC\n",
    "svc = SVC()\n",
    "svc.fit(x_train_std, y_train)\n",
    "predictions = svc.predict(x_test_std)\n",
    "accuracy_score(y_test, predictions)"
   ]
  },
  {
   "cell_type": "markdown",
   "id": "0249c875-897a-4209-8fd4-e0c5e3b095fb",
   "metadata": {},
   "source": [
    "6.Cross Validation Score for random forest and sgd"
   ]
  },
  {
   "cell_type": "code",
   "execution_count": 20,
   "id": "4281ff5a-2481-4348-9bc1-3103e60b973f",
   "metadata": {},
   "outputs": [
    {
     "data": {
      "text/plain": [
       "0.8619950845199902"
      ]
     },
     "execution_count": 20,
     "metadata": {},
     "output_type": "execute_result"
    }
   ],
   "source": [
    "rf_eval = cross_val_score(estimator = rf, X = x_train_std, y = y_train, cv = 10)\n",
    "rf_eval.mean()"
   ]
  },
  {
   "cell_type": "markdown",
   "id": "2bbc6c2a-d2e6-495f-a1df-fc9075d961b9",
   "metadata": {},
   "source": [
    "Therefore the highest level of accuracy amoung the tested models is of Random Forest Classifier, with an accuracy of 88.14 percent"
   ]
  },
  {
   "cell_type": "code",
   "execution_count": null,
   "id": "53767243-914a-49db-8b34-5ba4e03413f2",
   "metadata": {},
   "outputs": [],
   "source": []
  }
 ],
 "metadata": {
  "kernelspec": {
   "display_name": "Python 3 (ipykernel)",
   "language": "python",
   "name": "python3"
  },
  "language_info": {
   "codemirror_mode": {
    "name": "ipython",
    "version": 3
   },
   "file_extension": ".py",
   "mimetype": "text/x-python",
   "name": "python",
   "nbconvert_exporter": "python",
   "pygments_lexer": "ipython3",
   "version": "3.11.4"
  }
 },
 "nbformat": 4,
 "nbformat_minor": 5
}
